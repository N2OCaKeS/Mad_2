{
 "cells": [
  {
   "cell_type": "markdown",
   "source": [
    "# Практическая работа №1"
   ],
   "metadata": {
    "collapsed": false
   }
  },
  {
   "cell_type": "markdown",
   "source": [
    "## Извлечение признаков из данных\n",
    "\n",
    "### Чтение информации о матчах"
   ],
   "metadata": {
    "collapsed": false
   }
  },
  {
   "cell_type": "markdown",
   "source": [],
   "metadata": {
    "collapsed": false
   }
  },
  {
   "cell_type": "code",
   "execution_count": 3,
   "outputs": [],
   "source": [
    "import json\n",
    "import bz2\n",
    "\n",
    "with bz2.BZ2File('./data/matches.jsonlines.bz2') as matches_file:\n",
    "    for line in matches_file:\n",
    "        match = json.loads(line)\n",
    "\n",
    "        # Обработка матча\n",
    "        brea"
   ],
   "metadata": {
    "collapsed": false,
    "ExecuteTime": {
     "end_time": "2023-09-26T13:45:05.557164Z",
     "start_time": "2023-09-26T13:45:05.533646Z"
    }
   }
  },
  {
   "cell_type": "markdown",
   "source": [
    "### Пример чтения файла с признаками"
   ],
   "metadata": {
    "collapsed": false
   }
  },
  {
   "cell_type": "code",
   "execution_count": 4,
   "outputs": [
    {
     "data": {
      "text/plain": "          start_time  lobby_type  r1_hero  r1_level  r1_xp  r1_gold  r1_lh  \\\nmatch_id                                                                     \n0         1430198770           7       11         5   2098     1489     20   \n1         1430220345           0       42         4   1188     1033      9   \n2         1430227081           7       33         4   1319     1270     22   \n3         1430263531           1       29         4   1779     1056     14   \n4         1430282290           7       13         4   1431     1090      8   \n\n          r1_kills  r1_deaths  r1_items  ...  dire_boots_count  \\\nmatch_id                                 ...                     \n0                0          0         7  ...                 4   \n1                0          1        12  ...                 4   \n2                0          0        12  ...                 4   \n3                0          0         5  ...                 4   \n4                1          0         8  ...                 3   \n\n          dire_ward_observer_count  dire_ward_sentry_count  \\\nmatch_id                                                     \n0                                2                       2   \n1                                3                       1   \n2                                3                       1   \n3                                2                       0   \n4                                3                       0   \n\n          dire_first_ward_time  duration  radiant_win  tower_status_radiant  \\\nmatch_id                                                                      \n0                        -52.0      2874            1                  1796   \n1                         -5.0      2463            1                  1974   \n2                         13.0      2130            0                     0   \n3                         27.0      1459            0                  1920   \n4                        -16.0      2449            0                     4   \n\n          tower_status_dire  barracks_status_radiant  barracks_status_dire  \nmatch_id                                                                    \n0                         0                       51                     0  \n1                         0                       63                     1  \n2                      1830                        0                    63  \n3                      2047                       50                    63  \n4                      1974                        3                    63  \n\n[5 rows x 108 columns]",
      "text/html": "<div>\n<style scoped>\n    .dataframe tbody tr th:only-of-type {\n        vertical-align: middle;\n    }\n\n    .dataframe tbody tr th {\n        vertical-align: top;\n    }\n\n    .dataframe thead th {\n        text-align: right;\n    }\n</style>\n<table border=\"1\" class=\"dataframe\">\n  <thead>\n    <tr style=\"text-align: right;\">\n      <th></th>\n      <th>start_time</th>\n      <th>lobby_type</th>\n      <th>r1_hero</th>\n      <th>r1_level</th>\n      <th>r1_xp</th>\n      <th>r1_gold</th>\n      <th>r1_lh</th>\n      <th>r1_kills</th>\n      <th>r1_deaths</th>\n      <th>r1_items</th>\n      <th>...</th>\n      <th>dire_boots_count</th>\n      <th>dire_ward_observer_count</th>\n      <th>dire_ward_sentry_count</th>\n      <th>dire_first_ward_time</th>\n      <th>duration</th>\n      <th>radiant_win</th>\n      <th>tower_status_radiant</th>\n      <th>tower_status_dire</th>\n      <th>barracks_status_radiant</th>\n      <th>barracks_status_dire</th>\n    </tr>\n    <tr>\n      <th>match_id</th>\n      <th></th>\n      <th></th>\n      <th></th>\n      <th></th>\n      <th></th>\n      <th></th>\n      <th></th>\n      <th></th>\n      <th></th>\n      <th></th>\n      <th></th>\n      <th></th>\n      <th></th>\n      <th></th>\n      <th></th>\n      <th></th>\n      <th></th>\n      <th></th>\n      <th></th>\n      <th></th>\n      <th></th>\n    </tr>\n  </thead>\n  <tbody>\n    <tr>\n      <th>0</th>\n      <td>1430198770</td>\n      <td>7</td>\n      <td>11</td>\n      <td>5</td>\n      <td>2098</td>\n      <td>1489</td>\n      <td>20</td>\n      <td>0</td>\n      <td>0</td>\n      <td>7</td>\n      <td>...</td>\n      <td>4</td>\n      <td>2</td>\n      <td>2</td>\n      <td>-52.0</td>\n      <td>2874</td>\n      <td>1</td>\n      <td>1796</td>\n      <td>0</td>\n      <td>51</td>\n      <td>0</td>\n    </tr>\n    <tr>\n      <th>1</th>\n      <td>1430220345</td>\n      <td>0</td>\n      <td>42</td>\n      <td>4</td>\n      <td>1188</td>\n      <td>1033</td>\n      <td>9</td>\n      <td>0</td>\n      <td>1</td>\n      <td>12</td>\n      <td>...</td>\n      <td>4</td>\n      <td>3</td>\n      <td>1</td>\n      <td>-5.0</td>\n      <td>2463</td>\n      <td>1</td>\n      <td>1974</td>\n      <td>0</td>\n      <td>63</td>\n      <td>1</td>\n    </tr>\n    <tr>\n      <th>2</th>\n      <td>1430227081</td>\n      <td>7</td>\n      <td>33</td>\n      <td>4</td>\n      <td>1319</td>\n      <td>1270</td>\n      <td>22</td>\n      <td>0</td>\n      <td>0</td>\n      <td>12</td>\n      <td>...</td>\n      <td>4</td>\n      <td>3</td>\n      <td>1</td>\n      <td>13.0</td>\n      <td>2130</td>\n      <td>0</td>\n      <td>0</td>\n      <td>1830</td>\n      <td>0</td>\n      <td>63</td>\n    </tr>\n    <tr>\n      <th>3</th>\n      <td>1430263531</td>\n      <td>1</td>\n      <td>29</td>\n      <td>4</td>\n      <td>1779</td>\n      <td>1056</td>\n      <td>14</td>\n      <td>0</td>\n      <td>0</td>\n      <td>5</td>\n      <td>...</td>\n      <td>4</td>\n      <td>2</td>\n      <td>0</td>\n      <td>27.0</td>\n      <td>1459</td>\n      <td>0</td>\n      <td>1920</td>\n      <td>2047</td>\n      <td>50</td>\n      <td>63</td>\n    </tr>\n    <tr>\n      <th>4</th>\n      <td>1430282290</td>\n      <td>7</td>\n      <td>13</td>\n      <td>4</td>\n      <td>1431</td>\n      <td>1090</td>\n      <td>8</td>\n      <td>1</td>\n      <td>0</td>\n      <td>8</td>\n      <td>...</td>\n      <td>3</td>\n      <td>3</td>\n      <td>0</td>\n      <td>-16.0</td>\n      <td>2449</td>\n      <td>0</td>\n      <td>4</td>\n      <td>1974</td>\n      <td>3</td>\n      <td>63</td>\n    </tr>\n  </tbody>\n</table>\n<p>5 rows × 108 columns</p>\n</div>"
     },
     "execution_count": 4,
     "metadata": {},
     "output_type": "execute_result"
    }
   ],
   "source": [
    "import pandas\n",
    "features = pandas.read_csv('./data/features.csv', index_col='match_id')\n",
    "\n",
    "features.head()"
   ],
   "metadata": {
    "collapsed": false,
    "ExecuteTime": {
     "end_time": "2023-09-26T13:45:46.308751Z",
     "start_time": "2023-09-26T13:45:44.535220Z"
    }
   }
  },
  {
   "cell_type": "markdown",
   "source": [
    "## Реализация гардиентного бустинга в лоб\n",
    "1. Считывание данных из файла и удаление признаков с результатами матча"
   ],
   "metadata": {
    "collapsed": false
   }
  },
  {
   "cell_type": "code",
   "execution_count": 9,
   "outputs": [],
   "source": [
    "import pandas as pd\n",
    "from sklearn.ensemble import GradientBoostingClassifier\n",
    "from sklearn.model_selection import cross_val_score, KFold\n",
    "import numpy as np\n",
    "\n",
    "# 1. Считываем таблицу с признаками из файла features.csv\n",
    "data = pd.read_csv('features.csv')\n",
    "\n",
    "# Удаляем признаки, связанные с итогами матча (они помечены в описании данных как отсутствующие в тестовой выборке)\n",
    "features_to_drop = ['duration', 'tower_status_radiant', 'tower_status_dire', 'barracks_status_radiant', 'barracks_status_dire']\n",
    "data = data.drop(features_to_drop, axis=1)"
   ],
   "metadata": {
    "collapsed": false,
    "ExecuteTime": {
     "end_time": "2023-09-26T14:40:51.089490Z",
     "start_time": "2023-09-26T14:40:50.030644Z"
    }
   }
  },
  {
   "cell_type": "markdown",
   "source": [
    "2. Проверка на наличие пропусков"
   ],
   "metadata": {
    "collapsed": false
   }
  },
  {
   "cell_type": "code",
   "execution_count": 10,
   "outputs": [
    {
     "name": "stdout",
     "output_type": "stream",
     "text": [
      "Признаки с пропусками:\n",
      "first_blood_time               19553\n",
      "first_blood_team               19553\n",
      "first_blood_player1            19553\n",
      "first_blood_player2            43987\n",
      "radiant_bottle_time            15691\n",
      "radiant_courier_time             692\n",
      "radiant_flying_courier_time    27479\n",
      "radiant_first_ward_time         1836\n",
      "dire_bottle_time               16143\n",
      "dire_courier_time                676\n",
      "dire_flying_courier_time       26098\n",
      "dire_first_ward_time            1826\n",
      "dtype: int64\n"
     ]
    }
   ],
   "source": [
    "# 2. Проверяем выборку на наличие пропусков\n",
    "missing_values = data.isnull().sum()\n",
    "print(\"Признаки с пропусками:\")\n",
    "print(missing_values[missing_values > 0])\n",
    "\n",
    "# В данном случае мы заменим пропуски на нули.\n",
    "data = data.fillna(0)"
   ],
   "metadata": {
    "collapsed": false,
    "ExecuteTime": {
     "end_time": "2023-09-26T14:40:52.996343Z",
     "start_time": "2023-09-26T14:40:52.950908Z"
    }
   }
  },
  {
   "cell_type": "markdown",
   "source": [
    "3. Поиск целевой переменной"
   ],
   "metadata": {
    "collapsed": false
   }
  },
  {
   "cell_type": "code",
   "execution_count": 11,
   "outputs": [],
   "source": [
    "# 3. Найдем название столбца с целевой переменной. В данной задаче это 'radiant_win'.\n",
    "target_column = 'radiant_win'"
   ],
   "metadata": {
    "collapsed": false,
    "ExecuteTime": {
     "end_time": "2023-09-26T14:40:56.677966Z",
     "start_time": "2023-09-26T14:40:56.666249Z"
    }
   }
  },
  {
   "cell_type": "markdown",
   "source": [
    "4. Подготовка данных к кросс-валидации, а так же генератор разбиений"
   ],
   "metadata": {
    "collapsed": false
   }
  },
  {
   "cell_type": "code",
   "execution_count": 12,
   "outputs": [],
   "source": [
    "# 4. Подготовим данные для обучения и кросс-валидации\n",
    "X = data.drop(target_column, axis=1)\n",
    "y = data[target_column]\n",
    "\n",
    "# Зафиксируем генератор разбиений для кросс-валидации\n",
    "kf = KFold(n_splits=5, shuffle=True, random_state=42)"
   ],
   "metadata": {
    "collapsed": false,
    "ExecuteTime": {
     "end_time": "2023-09-26T14:40:59.619617Z",
     "start_time": "2023-09-26T14:40:59.585054Z"
    }
   }
  },
  {
   "cell_type": "markdown",
   "source": [
    "5. Оценка качества гардиентного бустинга"
   ],
   "metadata": {
    "collapsed": false
   }
  },
  {
   "cell_type": "code",
   "execution_count": 13,
   "outputs": [],
   "source": [
    "# 5. Оценим качество градиентного бустинга с помощью кросс-валидации\n",
    "n_estimators_values = [10, 20, 30]  # Разные значения для количества деревьев\n",
    "results = {}\n",
    "\n",
    "for n_estimators in n_estimators_values:\n",
    "    clf = GradientBoostingClassifier(n_estimators=n_estimators, random_state=42)\n",
    "    scores = cross_val_score(clf, X, y, cv=kf, scoring='roc_auc')\n",
    "    results[n_estimators] = np.mean(scores)"
   ],
   "metadata": {
    "collapsed": false,
    "ExecuteTime": {
     "end_time": "2023-09-26T16:17:56.373770Z",
     "start_time": "2023-09-26T14:41:02.635361Z"
    }
   }
  },
  {
   "cell_type": "markdown",
   "source": [
    "6. Вывод результатов"
   ],
   "metadata": {
    "collapsed": false
   }
  },
  {
   "cell_type": "code",
   "execution_count": 14,
   "outputs": [
    {
     "name": "stdout",
     "output_type": "stream",
     "text": [
      "Количество деревьев: 10, Средний ROC AUC: 0.6648506879750012\n",
      "Количество деревьев: 20, Средний ROC AUC: 0.6824618768044435\n",
      "Количество деревьев: 30, Средний ROC AUC: 0.6900064710388155\n"
     ]
    }
   ],
   "source": [
    "# Выведем результаты\n",
    "for n_estimators, score in results.items():\n",
    "    print(f\"Количество деревьев: {n_estimators}, Средний ROC AUC: {score}\")"
   ],
   "metadata": {
    "collapsed": false,
    "ExecuteTime": {
     "end_time": "2023-09-26T16:17:56.380327Z",
     "start_time": "2023-09-26T16:17:56.376541Z"
    }
   }
  }
 ],
 "metadata": {
  "kernelspec": {
   "display_name": "Python 3",
   "language": "python",
   "name": "python3"
  },
  "language_info": {
   "codemirror_mode": {
    "name": "ipython",
    "version": 2
   },
   "file_extension": ".py",
   "mimetype": "text/x-python",
   "name": "python",
   "nbconvert_exporter": "python",
   "pygments_lexer": "ipython2",
   "version": "2.7.6"
  }
 },
 "nbformat": 4,
 "nbformat_minor": 0
}
